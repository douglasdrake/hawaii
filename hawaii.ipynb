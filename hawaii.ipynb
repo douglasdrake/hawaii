{
 "cells": [
  {
   "cell_type": "markdown",
   "metadata": {},
   "source": [
    "# Homework 8.  Douglas Drake\n"
   ]
  },
  {
   "cell_type": "code",
   "execution_count": 1,
   "metadata": {},
   "outputs": [],
   "source": [
    "# import dependencies\n",
    "\n",
    "%matplotlib inline\n",
    "from matplotlib import style\n",
    "style.use('fivethirtyeight')\n",
    "import matplotlib.pyplot as plt"
   ]
  },
  {
   "cell_type": "code",
   "execution_count": 2,
   "metadata": {},
   "outputs": [],
   "source": [
    "import numpy as np\n",
    "import pandas as pd"
   ]
  },
  {
   "cell_type": "code",
   "execution_count": 3,
   "metadata": {},
   "outputs": [],
   "source": [
    "import datetime as dt"
   ]
  },
  {
   "cell_type": "markdown",
   "metadata": {},
   "source": [
    "# Reflect Tables into SQLAlchemy ORM"
   ]
  },
  {
   "cell_type": "code",
   "execution_count": 4,
   "metadata": {},
   "outputs": [],
   "source": [
    "# Python SQL toolkit and Object Relational Mapper\n",
    "import sqlalchemy\n",
    "from sqlalchemy.ext.automap import automap_base\n",
    "from sqlalchemy.orm import Session\n",
    "from sqlalchemy import create_engine, func"
   ]
  },
  {
   "cell_type": "code",
   "execution_count": 5,
   "metadata": {},
   "outputs": [],
   "source": [
    "engine = create_engine(\"sqlite:///Resources/hawaii.sqlite\")"
   ]
  },
  {
   "cell_type": "code",
   "execution_count": 6,
   "metadata": {},
   "outputs": [],
   "source": [
    "# reflect an existing database into a new model\n",
    "Base = automap_base()\n",
    "# reflect the tables\n",
    "Base.prepare(engine, reflect=True)"
   ]
  },
  {
   "cell_type": "code",
   "execution_count": 7,
   "metadata": {},
   "outputs": [
    {
     "data": {
      "text/plain": [
       "['measurement', 'station']"
      ]
     },
     "execution_count": 7,
     "metadata": {},
     "output_type": "execute_result"
    }
   ],
   "source": [
    "# We can view all of the classes that automap found\n",
    "Base.classes.keys()"
   ]
  },
  {
   "cell_type": "code",
   "execution_count": 8,
   "metadata": {},
   "outputs": [],
   "source": [
    "# Save references to each table\n",
    "Measurement = Base.classes.measurement\n",
    "Station = Base.classes.station"
   ]
  },
  {
   "cell_type": "code",
   "execution_count": 9,
   "metadata": {},
   "outputs": [],
   "source": [
    "# Create our session (link) from Python to the DB\n",
    "session = Session(engine)"
   ]
  },
  {
   "cell_type": "markdown",
   "metadata": {},
   "source": [
    "# Exploratory Climate Analysis"
   ]
  },
  {
   "cell_type": "code",
   "execution_count": 10,
   "metadata": {},
   "outputs": [
    {
     "data": {
      "text/plain": [
       "['measurement', 'station']"
      ]
     },
     "execution_count": 10,
     "metadata": {},
     "output_type": "execute_result"
    }
   ],
   "source": [
    "# Use inspect to examine the tables\n",
    "from sqlalchemy import inspect\n",
    "\n",
    "inspector = inspect(engine)\n",
    "inspector.get_table_names()"
   ]
  },
  {
   "cell_type": "code",
   "execution_count": 11,
   "metadata": {},
   "outputs": [
    {
     "name": "stdout",
     "output_type": "stream",
     "text": [
      "id INTEGER\n",
      "station TEXT\n",
      "date TEXT\n",
      "prcp FLOAT\n",
      "tobs FLOAT\n"
     ]
    }
   ],
   "source": [
    "# Get a list of column names and types for the measurement table\n",
    "columns = inspector.get_columns('measurement')\n",
    "for c in columns:\n",
    "    print(c['name'], c[\"type\"])"
   ]
  },
  {
   "cell_type": "code",
   "execution_count": 12,
   "metadata": {},
   "outputs": [
    {
     "name": "stdout",
     "output_type": "stream",
     "text": [
      "id INTEGER\n",
      "station TEXT\n",
      "name TEXT\n",
      "latitude FLOAT\n",
      "longitude FLOAT\n",
      "elevation FLOAT\n"
     ]
    }
   ],
   "source": [
    "# Get a list of column names and types for the station table\n",
    "columns = inspector.get_columns('station')\n",
    "for c in columns:\n",
    "    print(c['name'], c[\"type\"])"
   ]
  },
  {
   "cell_type": "code",
   "execution_count": 13,
   "metadata": {},
   "outputs": [
    {
     "name": "stdout",
     "output_type": "stream",
     "text": [
      "The earliest date in the table is: 2010-01-01\n",
      "The latest date in the table is: 2017-08-23\n",
      "The dates are stored as type: <class 'str'>\n"
     ]
    }
   ],
   "source": [
    "# One way to get the first date and last dates in the database\n",
    "\n",
    "query_results = session.query(func.min(Measurement.date), func.max(Measurement.date)).all()\n",
    "\n",
    "for min_date, max_date in query_results:\n",
    "    print(f\"The earliest date in the table is: {min_date}\")\n",
    "    print(f\"The latest date in the table is: {max_date}\")\n",
    "    print(f\"The dates are stored as type: {type(min_date)}\")"
   ]
  },
  {
   "cell_type": "code",
   "execution_count": 14,
   "metadata": {},
   "outputs": [
    {
     "name": "stdout",
     "output_type": "stream",
     "text": [
      "The earliest date in the table is: 2010-01-01\n",
      "The latest date in the table is: 2017-08-23\n",
      "The dates are stored as type: <class 'str'>\n"
     ]
    }
   ],
   "source": [
    "# Another way to get the first and last dates in the datebase\n",
    "# Using order_by\n",
    "date_range = [(session.query(Measurement.date).order_by(Measurement.date).first()[0],\\\n",
    "              session.query(Measurement.date).order_by(Measurement.date.desc()).first()[0])]\n",
    "\n",
    "for min_date, max_date in date_range:\n",
    "    print(f\"The earliest date in the table is: {min_date}\")\n",
    "    print(f\"The latest date in the table is: {max_date}\")\n",
    "    print(f\"The dates are stored as type: {type(min_date)}\")"
   ]
  },
  {
   "cell_type": "markdown",
   "metadata": {},
   "source": [
    "## Precipitation Analysis"
   ]
  },
  {
   "cell_type": "code",
   "execution_count": 15,
   "metadata": {},
   "outputs": [
    {
     "data": {
      "text/plain": [
       "<matplotlib.axes._subplots.AxesSubplot at 0x29fdf9bdfd0>"
      ]
     },
     "execution_count": 15,
     "metadata": {},
     "output_type": "execute_result"
    },
    {
     "data": {
      "image/png": "[encoded data removed]",
      "text/plain": [
       "<Figure size 720x576 with 1 Axes>"
      ]
     },
     "metadata": {
      "needs_background": "light"
     },
     "output_type": "display_data"
    }
   ],
   "source": [
    "# Design a query to retrieve the last 12 months of precipitation data and plot the results\n",
    "\n",
    "# pull the last date and convert to a datetime object\n",
    "last_date = session.query(func.max(Measurement.date)).scalar()\n",
    "last_date = dt.datetime.strptime(last_date, '%Y-%m-%d')\n",
    "\n",
    "# Calculate the date 1 year ago from the last data point in the database\n",
    "# For longer timespans we would need to use dateutil.relativedelta to handle leap years\n",
    "one_year_ago = last_date - dt.timedelta(days=365)\n",
    "one_year_ago_str = one_year_ago.strftime(\"%Y-%m-%d\")\n",
    "\n",
    "# We take our query date back to a string because comparisons \n",
    "# using a datetime object version of the date give a slightly different result\n",
    "# I have commented out the datetime version of the query - it returns 7 fewer observations\n",
    "\n",
    "# Perform a query to retrieve the data and precipitation scores\n",
    "last_years_data = session.query(Measurement.date, Measurement.prcp).\\\n",
    "    filter(Measurement.date >= one_year_ago_str).all()\n",
    "# print(f\"The length of the pull is: {len(last_years_data)}\")\n",
    "# The length of the pull is: 2230\n",
    "\n",
    "#last_years_data_dt = session.query(Measurement.date, Measurement.prcp).\\\n",
    "#    filter(Measurement.date >= one_year_ago).all()\n",
    "#print(f\"The length of the pull is: {len(last_years_data_dt)}\")\n",
    "# The length of the pull is: 2223\n",
    "# Inspecting the query shows that none of the dates for 2016-08-23 are included\n",
    "\n",
    "# Sort the dataframe by date\n",
    "df_str = pd.DataFrame(last_years_data, columns=[\"Date\", \"Precipitation\"])\n",
    "df_str.set_index('Date', inplace=True)\n",
    "df_str.sort_index(inplace=True)\n",
    "\n",
    "# Use Pandas Plotting with Matplotlib to plot the data\n",
    "df_str.plot(figsize=(10,8))"
   ]
  },
  {
   "cell_type": "code",
   "execution_count": 16,
   "metadata": {},
   "outputs": [
    {
     "data": {
      "text/html": [
       "<div>\n",
       "<style scoped>\n",
       "    .dataframe tbody tr th:only-of-type {\n",
       "        vertical-align: middle;\n",
       "    }\n",
       "\n",
       "    .dataframe tbody tr th {\n",
       "        vertical-align: top;\n",
       "    }\n",
       "\n",
       "    .dataframe thead th {\n",
       "        text-align: right;\n",
       "    }\n",
       "</style>\n",
       "<table border=\"1\" class=\"dataframe\">\n",
       "  <thead>\n",
       "    <tr style=\"text-align: right;\">\n",
       "      <th></th>\n",
       "      <th>Precipitation</th>\n",
       "    </tr>\n",
       "  </thead>\n",
       "  <tbody>\n",
       "    <tr>\n",
       "      <th>count</th>\n",
       "      <td>2021.000000</td>\n",
       "    </tr>\n",
       "    <tr>\n",
       "      <th>mean</th>\n",
       "      <td>0.177279</td>\n",
       "    </tr>\n",
       "    <tr>\n",
       "      <th>std</th>\n",
       "      <td>0.461190</td>\n",
       "    </tr>\n",
       "    <tr>\n",
       "      <th>min</th>\n",
       "      <td>0.000000</td>\n",
       "    </tr>\n",
       "    <tr>\n",
       "      <th>25%</th>\n",
       "      <td>0.000000</td>\n",
       "    </tr>\n",
       "    <tr>\n",
       "      <th>50%</th>\n",
       "      <td>0.020000</td>\n",
       "    </tr>\n",
       "    <tr>\n",
       "      <th>75%</th>\n",
       "      <td>0.130000</td>\n",
       "    </tr>\n",
       "    <tr>\n",
       "      <th>max</th>\n",
       "      <td>6.700000</td>\n",
       "    </tr>\n",
       "  </tbody>\n",
       "</table>\n",
       "</div>"
      ],
      "text/plain": [
       "       Precipitation\n",
       "count    2021.000000\n",
       "mean        0.177279\n",
       "std         0.461190\n",
       "min         0.000000\n",
       "25%         0.000000\n",
       "50%         0.020000\n",
       "75%         0.130000\n",
       "max         6.700000"
      ]
     },
     "execution_count": 16,
     "metadata": {},
     "output_type": "execute_result"
    }
   ],
   "source": [
    "# Use Pandas to calcualte the summary statistics for the precipitation data\n",
    "\n",
    "df_str.describe()"
   ]
  },
  {
   "cell_type": "markdown",
   "metadata": {},
   "source": [
    "## Station Analysis"
   ]
  },
  {
   "cell_type": "code",
   "execution_count": 17,
   "metadata": {},
   "outputs": [
    {
     "name": "stdout",
     "output_type": "stream",
     "text": [
      "('USC00519397',)\n",
      "('USC00513117',)\n",
      "('USC00514830',)\n",
      "('USC00517948',)\n",
      "('USC00518838',)\n",
      "('USC00519523',)\n",
      "('USC00519281',)\n",
      "('USC00511918',)\n",
      "('USC00516128',)\n",
      "The number of stations in the measurement table: 9\n"
     ]
    },
    {
     "data": {
      "text/plain": [
       "9"
      ]
     },
     "execution_count": 17,
     "metadata": {},
     "output_type": "execute_result"
    }
   ],
   "source": [
    "# Design a query to show how many stations are available in this dataset?\n",
    "# We could list all of the unique stations and find the length of the query:\n",
    "query_results = session.query(Measurement.station).distinct().all()\n",
    "\n",
    "for row in query_results:\n",
    "    print(row)\n",
    "print(f\"The number of stations in the measurement table: {len(query_results)}\")\n",
    "\n",
    "# Or we could just count them in the query\n",
    "from sqlalchemy import distinct\n",
    "session.query(func.count(distinct(Measurement.station))).scalar()"
   ]
  },
  {
   "cell_type": "code",
   "execution_count": 18,
   "metadata": {},
   "outputs": [
    {
     "data": {
      "text/plain": [
       "[('USC00519281', 2772),\n",
       " ('USC00519397', 2724),\n",
       " ('USC00513117', 2709),\n",
       " ('USC00519523', 2669),\n",
       " ('USC00516128', 2612),\n",
       " ('USC00514830', 2202),\n",
       " ('USC00511918', 1979),\n",
       " ('USC00517948', 1372),\n",
       " ('USC00518838', 511)]"
      ]
     },
     "execution_count": 18,
     "metadata": {},
     "output_type": "execute_result"
    }
   ],
   "source": [
    "# What are the most active stations? (i.e. what stations have the most rows)?\n",
    "# List the stations and the counts in descending order.\n",
    "\n",
    "session.query(Measurement.station, func.count(Measurement.station)).\\\n",
    "    group_by(Measurement.station).\\\n",
    "    order_by(func.count(Measurement.station).desc()).all()"
   ]
  },
  {
   "cell_type": "code",
   "execution_count": 19,
   "metadata": {},
   "outputs": [
    {
     "data": {
      "text/plain": [
       "'USC00519281'"
      ]
     },
     "execution_count": 19,
     "metadata": {},
     "output_type": "execute_result"
    }
   ],
   "source": [
    "# The most active station: assign a reference to this result for later use\n",
    "\n",
    "most_active = session.query(Measurement.station).\\\n",
    "    group_by(Measurement.station).\\\n",
    "    order_by(func.count(Measurement.station).desc()).first()[0]\n",
    "\n",
    "most_active"
   ]
  },
  {
   "cell_type": "code",
   "execution_count": 20,
   "metadata": {},
   "outputs": [
    {
     "data": {
      "text/plain": [
       "[(54.0, 85.0, 71.66378066378067)]"
      ]
     },
     "execution_count": 20,
     "metadata": {},
     "output_type": "execute_result"
    }
   ],
   "source": [
    "# Using the station id from the previous query, calculate the lowest temperature recorded, \n",
    "# highest temperature recorded, and average temperature most active station?\n",
    "\n",
    "session.query(func.min(Measurement.tobs),\n",
    "              func.max(Measurement.tobs),\n",
    "              func.avg(Measurement.tobs)).filter(Measurement.station == most_active).all()"
   ]
  },
  {
   "cell_type": "code",
   "execution_count": 21,
   "metadata": {},
   "outputs": [
    {
     "data": {
      "text/plain": [
       "<matplotlib.axes._subplots.AxesSubplot at 0x29fdfd88c88>"
      ]
     },
     "execution_count": 21,
     "metadata": {},
     "output_type": "execute_result"
    },
    {
     "data": {
      "image/png": "[encoded data removed]",
      "text/plain": [
       "<Figure size 576x432 with 1 Axes>"
      ]
     },
     "metadata": {
      "needs_background": "light"
     },
     "output_type": "display_data"
    }
   ],
   "source": [
    "# Choose the station with the highest number of temperature observations.\n",
    "# Query the last 12 months of temperature observation data for this station and plot the results as a histogram\n",
    "\n",
    "query_results = session.query(Measurement.tobs).\\\n",
    "    filter(Measurement.date >= one_year_ago_str).\\\n",
    "    filter(Measurement.station == most_active).all()\n",
    "\n",
    "#query_results[:10]\n",
    "df_temp = pd.DataFrame(query_results, columns=['Temperature'])\n",
    "df_temp.plot.hist(bins=12, figsize=(8,6)) # default is bins=10, bins=12 matches the sample graph"
   ]
  },
  {
   "cell_type": "markdown",
   "metadata": {},
   "source": [
    "# Optional: Other Recommended Analyses"
   ]
  },
  {
   "cell_type": "markdown",
   "metadata": {},
   "source": [
    "## Temperature Analysis"
   ]
  },
  {
   "cell_type": "code",
   "execution_count": 22,
   "metadata": {},
   "outputs": [
    {
     "name": "stdout",
     "output_type": "stream",
     "text": [
      "[(62.0, 69.57142857142857, 74.0)]\n",
      "[(62.0, 68.36585365853658, 74.0)]\n"
     ]
    }
   ],
   "source": [
    "# This function called `calc_temps` will accept start date and end date in the format '%Y-%m-%d' \n",
    "# and return the minimum, average, and maximum temperatures for that range of dates\n",
    "def calc_temps(start_date, end_date):\n",
    "    \"\"\"TMIN, TAVG, and TMAX for a list of dates.\n",
    "    \n",
    "    Args:\n",
    "        start_date (string): A date string in the format %Y-%m-%d\n",
    "        end_date (string): A date string in the format %Y-%m-%d\n",
    "        \n",
    "    Returns:\n",
    "        TMIN, TAVE, and TMAX\n",
    "    \"\"\"\n",
    "    \n",
    "    return session.query(func.min(Measurement.tobs), func.avg(Measurement.tobs), func.max(Measurement.tobs)).\\\n",
    "        filter(Measurement.date >= start_date).filter(Measurement.date <= end_date).all()\n",
    "\n",
    "# function usage example\n",
    "print(calc_temps('2012-02-28', '2012-03-05'))\n",
    "\n",
    "# The output in the starter notebook was produced using the date range 2017-01-01 to 2017-01-07\n",
    "print(calc_temps('2017-01-01', '2017-01-07'))"
   ]
  },
  {
   "cell_type": "code",
   "execution_count": 23,
   "metadata": {},
   "outputs": [
    {
     "name": "stdout",
     "output_type": "stream",
     "text": [
      "Date: 2018-01-01\n",
      "Date one-year-prior (as a datetime object): 2017-01-01 00:00:00\n",
      "Date one-year-prior (as string): 2017-01-01\n"
     ]
    }
   ],
   "source": [
    "# A helper function\n",
    "def one_year_ago(a_date, date_format=\"%Y-%m-%d\", return_datetime=False):\n",
    "    \"\"\"\n",
    "    Args: \n",
    "        a_date:  \n",
    "            is a string representation of a date with the time-format specified in date_format \n",
    "            (default is %Y-%m-%d)\n",
    "        date_format: \n",
    "            the format of a_date\n",
    "        return_datetime:\n",
    "            specifies whether the result should be returned as a string (the default) or a \n",
    "            datetime object.\n",
    "            \n",
    "    Returns: (Default) a string object that is the date one-year prior to a_date in the same format as\n",
    "        a_date or a datetime object if return_datetime is True \n",
    "    \"\"\"\n",
    "    a_date = dt.datetime.strptime(a_date, date_format)\n",
    "    one_year_prior = a_date - dt.timedelta(days=365)\n",
    "    if return_datetime:\n",
    "        return one_year_prior\n",
    "    else:\n",
    "        return one_year_prior.strftime(date_format)\n",
    "\n",
    "# An example of the above function: \n",
    "start_date = \"2018-01-01\"\n",
    "start_delta_dt = one_year_ago(start_date, return_datetime=True)\n",
    "start_delta_str = one_year_ago(start_date)\n",
    "\n",
    "print(f\"Date: {start_date}\")\n",
    "print(f\"Date one-year-prior (as a datetime object): {start_delta_dt}\")\n",
    "print(f\"Date one-year-prior (as string): {start_delta_str}\")\n"
   ]
  },
  {
   "cell_type": "code",
   "execution_count": 24,
   "metadata": {},
   "outputs": [
    {
     "data": {
      "text/plain": [
       "[(62.0, 70.34042553191489, 82.0)]"
      ]
     },
     "execution_count": 24,
     "metadata": {},
     "output_type": "execute_result"
    }
   ],
   "source": [
    "# Use your previous function `calc_temps` to calculate the tmin, tavg, and tmax \n",
    "# for your trip using the previous year's data for those same dates.\n",
    "\n",
    "# Pick a startind and ending date for the trip:\n",
    "start_date = '2018-03-05'\n",
    "end_date = '2018-03-12'\n",
    "\n",
    "start_delta = one_year_ago(start_date)\n",
    "end_delta = one_year_ago(end_date)\n",
    "temps = calc_temps(start_delta, end_delta)\n",
    "temps"
   ]
  },
  {
   "cell_type": "code",
   "execution_count": 25,
   "metadata": {},
   "outputs": [
    {
     "data": {
      "image/png": "[encoded data removed]",
      "text/plain": [
       "<Figure size 432x864 with 1 Axes>"
      ]
     },
     "metadata": {
      "needs_background": "light"
     },
     "output_type": "display_data"
    }
   ],
   "source": [
    "# Plotting the results for our trip dates:\n",
    "\n",
    "yerr = [max(temps[0])-min(temps[0])]\n",
    "\n",
    "df_summary_temps = pd.DataFrame(temps, columns = ['tmin', 'tavg', 'tmax'])\n",
    "ax = df_summary_temps['tavg'].plot(kind='bar',yerr=yerr,color=\"lightsalmon\",figsize=(6,12),alpha=0.8)\n",
    "ax.set_title('Trip Avg Temp')\n",
    "ax.set_xticklabels([])\n",
    "ax.set_ylabel('Temp (F)')\n",
    "ax.xaxis.grid(False)\n",
    "ylim = [0, 100]\n",
    "ax.set_ylim(0,100)\n",
    "\n",
    "# Save the figure and show\n",
    "plt.tight_layout()\n",
    "plt.show()"
   ]
  },
  {
   "cell_type": "code",
   "execution_count": 26,
   "metadata": {},
   "outputs": [
    {
     "name": "stdout",
     "output_type": "stream",
     "text": [
      "('USC00513117', 'KANEOHE 838.1, HI US', 21.4234, -157.8015, 14.6, 1.57)\n",
      "('USC00519281', 'WAIHEE 837.5, HI US', 21.45167, -157.84888999999998, 32.9, 1.13)\n",
      "('USC00514830', 'KUALOA RANCH HEADQUARTERS 886.9, HI US', 21.5213, -157.8374, 7.0, 0.63)\n",
      "('USC00516128', 'MANOA LYON ARBO 785.2, HI US', 21.3331, -157.8025, 152.4, 0.36)\n",
      "('USC00519397', 'WAIKIKI 717.2, HI US', 21.2716, -157.8168, 3.0, 0.35)\n",
      "('USC00517948', 'PEARL CITY, HI US', 21.3934, -157.9751, 11.9, 0.0)\n",
      "('USC00519523', 'WAIMANALO EXPERIMENTAL FARM, HI US', 21.33556, -157.71139, 19.5, 0.0)\n"
     ]
    }
   ],
   "source": [
    "# Calculate the total amount of rainfall per weather station for your trip dates using the previous year's matching dates.\n",
    "# Sort this in descending order by precipitation amount and list the station, name, latitude, longitude, and elevation\n",
    "\n",
    "sel = [Measurement.station,\n",
    "       Station.name,\n",
    "       Station.latitude,\n",
    "       Station.longitude,\n",
    "       Station.elevation,\n",
    "       func.sum(Measurement.prcp)]\n",
    "\n",
    "query_results = session.query(*sel).\\\n",
    "    filter(Measurement.station == Station.station).\\\n",
    "    filter(Measurement.date >= start_delta).\\\n",
    "    filter(Measurement.date <= end_delta).\\\n",
    "    group_by(Measurement.station).\\\n",
    "    order_by(func.sum(Measurement.prcp).desc()).all()\n",
    "\n",
    "for row in query_results:\n",
    "    print(row)"
   ]
  },
  {
   "cell_type": "markdown",
   "metadata": {},
   "source": [
    "##  Why we do not see data for nine stations:\n",
    "An earlier query identified nine stations in the measurement table.  The last query only returned information on seven stations.  We use the following query to see that two of the stations (USC00511918 and USC00518838) stopped supplying observations in 2015.  Queries using other date ranges may supply differing numbers of results depending on whether a station was reporting in that date range."
   ]
  },
  {
   "cell_type": "code",
   "execution_count": 27,
   "metadata": {},
   "outputs": [
    {
     "name": "stdout",
     "output_type": "stream",
     "text": [
      "('USC00511918', 'HONOLULU OBSERVATORY 702.2, HI US', '2010-01-01', '2015-10-30')\n",
      "('USC00518838', 'UPPER WAHIAWA 874.3, HI US', '2010-01-01', '2015-11-20')\n",
      "('USC00513117', 'KANEOHE 838.1, HI US', '2010-01-01', '2017-07-31')\n",
      "('USC00517948', 'PEARL CITY, HI US', '2010-05-03', '2017-07-31')\n",
      "('USC00519281', 'WAIHEE 837.5, HI US', '2010-01-01', '2017-08-18')\n",
      "('USC00514830', 'KUALOA RANCH HEADQUARTERS 886.9, HI US', '2010-03-01', '2017-08-23')\n",
      "('USC00516128', 'MANOA LYON ARBO 785.2, HI US', '2010-01-01', '2017-08-23')\n",
      "('USC00519397', 'WAIKIKI 717.2, HI US', '2010-01-01', '2017-08-23')\n",
      "('USC00519523', 'WAIMANALO EXPERIMENTAL FARM, HI US', '2010-01-01', '2017-08-23')\n"
     ]
    }
   ],
   "source": [
    "# The following query gets at the heart of the problem.  We do not have observations after 2016 for two of the stations.\n",
    "\n",
    "sel = [Station.station,\n",
    "       Station.name,\n",
    "       func.min(Measurement.date),\n",
    "       func.max(Measurement.date)]\n",
    "\n",
    "query_results = session.query(*sel).\\\n",
    "    join(Measurement, Measurement.station == Station.station, isouter=True).\\\n",
    "    group_by(Station.station).\\\n",
    "    order_by(func.max(Measurement.date)).all()\n",
    "\n",
    "for row in query_results:\n",
    "    print(row)"
   ]
  },
  {
   "cell_type": "markdown",
   "metadata": {},
   "source": [
    "## Daily Rainfall Average"
   ]
  },
  {
   "cell_type": "code",
   "execution_count": 28,
   "metadata": {},
   "outputs": [
    {
     "data": {
      "text/plain": [
       "[(62.0, 69.15384615384616, 77.0)]"
      ]
     },
     "execution_count": 28,
     "metadata": {},
     "output_type": "execute_result"
    }
   ],
   "source": [
    "# Create a query that will calculate the daily normals \n",
    "# (i.e. the averages for tmin, tmax, and tavg for all historic data matching a specific month and day)\n",
    "\n",
    "def daily_normals(date):\n",
    "    \"\"\"Daily Normals.\n",
    "    \n",
    "    Args:\n",
    "        date (str): A date string in the format '%m-%d'\n",
    "        \n",
    "    Returns:\n",
    "        A list of tuples containing the daily normals, tmin, tavg, and tmax\n",
    "    \n",
    "    \"\"\"\n",
    "    \n",
    "    sel = [func.min(Measurement.tobs), func.avg(Measurement.tobs), func.max(Measurement.tobs)]\n",
    "    return session.query(*sel).filter(func.strftime(\"%m-%d\", Measurement.date) == date).all()\n",
    "    \n",
    "daily_normals(\"01-01\")"
   ]
  },
  {
   "cell_type": "code",
   "execution_count": 29,
   "metadata": {},
   "outputs": [
    {
     "name": "stdout",
     "output_type": "stream",
     "text": [
      "['2018-03-05', '2018-03-06', '2018-03-07', '2018-03-08', '2018-03-09', '2018-03-10', '2018-03-11', '2018-03-12']\n",
      "['03-05', '03-06', '03-07', '03-08', '03-09', '03-10', '03-11', '03-12']\n",
      "(60.0, 67.89090909090909, 76.0)\n",
      "(60.0, 69.20338983050847, 76.0)\n",
      "(60.0, 69.17241379310344, 78.0)\n",
      "(59.0, 68.72413793103448, 78.0)\n",
      "(57.0, 68.56140350877193, 75.0)\n",
      "(57.0, 69.12280701754386, 75.0)\n",
      "(60.0, 69.89285714285714, 82.0)\n",
      "(62.0, 69.88888888888889, 80.0)\n"
     ]
    }
   ],
   "source": [
    "\n",
    "# We can loop over the dates to create the required date strings\n",
    "\n",
    "# convert our trip dates to datetime objects\n",
    "start_date_dt = dt.datetime.strptime(start_date, \"%Y-%m-%d\")\n",
    "end_date_dt = dt.datetime.strptime(end_date, \"%Y-%m-%d\")\n",
    "\n",
    "\n",
    "trip_dates = []\n",
    "dates = []\n",
    "current_date = start_date_dt\n",
    "\n",
    "while (current_date <= end_date_dt):\n",
    "        trip_dates.append(current_date.strftime(\"%Y-%m-%d\"))\n",
    "        dates.append(current_date.strftime(\"%m-%d\"))\n",
    "        current_date = current_date + dt.timedelta(days=1)\n",
    "\n",
    "print(trip_dates)\n",
    "print(dates)\n",
    "\n",
    "# Now use a list comprehension to get the requested daily normals\n",
    "normals = [daily_normals(date)[0] for date in dates]\n",
    "\n",
    "for row in normals:\n",
    "    print(row)\n"
   ]
  },
  {
   "cell_type": "code",
   "execution_count": 30,
   "metadata": {},
   "outputs": [
    {
     "data": {
      "text/html": [
       "<div>\n",
       "<style scoped>\n",
       "    .dataframe tbody tr th:only-of-type {\n",
       "        vertical-align: middle;\n",
       "    }\n",
       "\n",
       "    .dataframe tbody tr th {\n",
       "        vertical-align: top;\n",
       "    }\n",
       "\n",
       "    .dataframe thead th {\n",
       "        text-align: right;\n",
       "    }\n",
       "</style>\n",
       "<table border=\"1\" class=\"dataframe\">\n",
       "  <thead>\n",
       "    <tr style=\"text-align: right;\">\n",
       "      <th></th>\n",
       "      <th>tmin</th>\n",
       "      <th>tavg</th>\n",
       "      <th>tmax</th>\n",
       "    </tr>\n",
       "    <tr>\n",
       "      <th>date</th>\n",
       "      <th></th>\n",
       "      <th></th>\n",
       "      <th></th>\n",
       "    </tr>\n",
       "  </thead>\n",
       "  <tbody>\n",
       "    <tr>\n",
       "      <th>2018-03-05</th>\n",
       "      <td>60.0</td>\n",
       "      <td>67.890909</td>\n",
       "      <td>76.0</td>\n",
       "    </tr>\n",
       "    <tr>\n",
       "      <th>2018-03-06</th>\n",
       "      <td>60.0</td>\n",
       "      <td>69.203390</td>\n",
       "      <td>76.0</td>\n",
       "    </tr>\n",
       "    <tr>\n",
       "      <th>2018-03-07</th>\n",
       "      <td>60.0</td>\n",
       "      <td>69.172414</td>\n",
       "      <td>78.0</td>\n",
       "    </tr>\n",
       "    <tr>\n",
       "      <th>2018-03-08</th>\n",
       "      <td>59.0</td>\n",
       "      <td>68.724138</td>\n",
       "      <td>78.0</td>\n",
       "    </tr>\n",
       "    <tr>\n",
       "      <th>2018-03-09</th>\n",
       "      <td>57.0</td>\n",
       "      <td>68.561404</td>\n",
       "      <td>75.0</td>\n",
       "    </tr>\n",
       "    <tr>\n",
       "      <th>2018-03-10</th>\n",
       "      <td>57.0</td>\n",
       "      <td>69.122807</td>\n",
       "      <td>75.0</td>\n",
       "    </tr>\n",
       "    <tr>\n",
       "      <th>2018-03-11</th>\n",
       "      <td>60.0</td>\n",
       "      <td>69.892857</td>\n",
       "      <td>82.0</td>\n",
       "    </tr>\n",
       "    <tr>\n",
       "      <th>2018-03-12</th>\n",
       "      <td>62.0</td>\n",
       "      <td>69.888889</td>\n",
       "      <td>80.0</td>\n",
       "    </tr>\n",
       "  </tbody>\n",
       "</table>\n",
       "</div>"
      ],
      "text/plain": [
       "            tmin       tavg  tmax\n",
       "date                             \n",
       "2018-03-05  60.0  67.890909  76.0\n",
       "2018-03-06  60.0  69.203390  76.0\n",
       "2018-03-07  60.0  69.172414  78.0\n",
       "2018-03-08  59.0  68.724138  78.0\n",
       "2018-03-09  57.0  68.561404  75.0\n",
       "2018-03-10  57.0  69.122807  75.0\n",
       "2018-03-11  60.0  69.892857  82.0\n",
       "2018-03-12  62.0  69.888889  80.0"
      ]
     },
     "execution_count": 30,
     "metadata": {},
     "output_type": "execute_result"
    }
   ],
   "source": [
    "# Load the previous query results into a Pandas DataFrame and add the `trip_dates` range as the `date` index\n",
    "normals_df = pd.DataFrame(normals, columns=['tmin', 'tavg', 'tmax'])\n",
    "normals_df['date'] = trip_dates\n",
    "normals_df.set_index('date', inplace=True)\n",
    "normals_df"
   ]
  },
  {
   "cell_type": "code",
   "execution_count": 31,
   "metadata": {},
   "outputs": [
    {
     "data": {
      "image/png": "[encoded data removed]",
      "text/plain": [
       "<Figure size 576x432 with 1 Axes>"
      ]
     },
     "metadata": {
      "needs_background": "light"
     },
     "output_type": "display_data"
    }
   ],
   "source": [
    "# Plot the daily normals as an area plot with `stacked=False`\n",
    "\n",
    "ax = normals_df.plot.area(stacked=False, alpha = 0.3, figsize=(8,6))\n",
    "ax.set_xticklabels(normals_df.index, rotation=45)\n",
    "plt.tight_layout()\n",
    "#plt.xticks(rotation=45)"
   ]
  }
 ],
 "metadata": {
  "kernel_info": {
   "name": "python3"
  },
  "kernelspec": {
   "display_name": "Python 3",
   "language": "python",
   "name": "python3"
  },
  "language_info": {
   "codemirror_mode": {
    "name": "ipython",
    "version": 3
   },
   "file_extension": ".py",
   "mimetype": "text/x-python",
   "name": "python",
   "nbconvert_exporter": "python",
   "pygments_lexer": "ipython3",
   "version": "3.6.7"
  },
  "nteract": {
   "version": "0.12.3"
  },
  "varInspector": {
   "cols": {
    "lenName": 16,
    "lenType": 16,
    "lenVar": 40
   },
   "kernels_config": {
    "python": {
     "delete_cmd_postfix": "",
     "delete_cmd_prefix": "del ",
     "library": "var_list.py",
     "varRefreshCmd": "print(var_dic_list())"
    },
    "r": {
     "delete_cmd_postfix": ") ",
     "delete_cmd_prefix": "rm(",
     "library": "var_list.r",
     "varRefreshCmd": "cat(var_dic_list()) "
    }
   },
   "types_to_exclude": [
    "module",
    "function",
    "builtin_function_or_method",
    "instance",
    "_Feature"
   ],
   "window_display": false
  }
 },
 "nbformat": 4,
 "nbformat_minor": 2
}
