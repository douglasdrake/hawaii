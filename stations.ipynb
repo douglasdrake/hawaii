{
 "cells": [
  {
   "cell_type": "markdown",
   "metadata": {},
   "source": [
    "## Exploring the station table\n",
    "\n",
    "In this notebook, we consider the number of observations available for each station as well as the range of dates for which observations are given.  "
   ]
  },
  {
   "cell_type": "code",
   "execution_count": 3,
   "metadata": {},
   "outputs": [],
   "source": [
    "%matplotlib inline\n",
    "from matplotlib import style\n",
    "style.use('fivethirtyeight')\n",
    "import matplotlib.pyplot as plt"
   ]
  },
  {
   "cell_type": "code",
   "execution_count": 1,
   "metadata": {},
   "outputs": [],
   "source": [
    "import numpy as np\n",
    "import pandas as pd"
   ]
  },
  {
   "cell_type": "code",
   "execution_count": 2,
   "metadata": {},
   "outputs": [],
   "source": [
    "import datetime as dt"
   ]
  },
  {
   "cell_type": "markdown",
   "metadata": {},
   "source": [
    "# Reflect Tables into SQLAlchemy ORM"
   ]
  },
  {
   "cell_type": "code",
   "execution_count": 4,
   "metadata": {},
   "outputs": [],
   "source": [
    "# Python SQL toolkit and Object Relational Mapper\n",
    "import sqlalchemy\n",
    "from sqlalchemy.ext.automap import automap_base\n",
    "from sqlalchemy.orm import Session\n",
    "from sqlalchemy import create_engine, func"
   ]
  },
  {
   "cell_type": "code",
   "execution_count": 5,
   "metadata": {},
   "outputs": [],
   "source": [
    "engine = create_engine(\"sqlite:///Resources/hawaii.sqlite\")"
   ]
  },
  {
   "cell_type": "code",
   "execution_count": 6,
   "metadata": {},
   "outputs": [],
   "source": [
    "# reflect an existing database into a new model\n",
    "Base = automap_base()\n",
    "# reflect the tables\n",
    "Base.prepare(engine, reflect=True)"
   ]
  },
  {
   "cell_type": "code",
   "execution_count": 7,
   "metadata": {},
   "outputs": [
    {
     "data": {
      "text/plain": [
       "['measurement', 'station']"
      ]
     },
     "execution_count": 7,
     "metadata": {},
     "output_type": "execute_result"
    }
   ],
   "source": [
    "# We can view all of the classes that automap found\n",
    "Base.classes.keys()"
   ]
  },
  {
   "cell_type": "code",
   "execution_count": 8,
   "metadata": {},
   "outputs": [],
   "source": [
    "# Save references to each table\n",
    "Measurement = Base.classes.measurement\n",
    "Station = Base.classes.station"
   ]
  },
  {
   "cell_type": "code",
   "execution_count": 9,
   "metadata": {},
   "outputs": [],
   "source": [
    "# Create our session (link) from Python to the DB\n",
    "session = Session(engine)"
   ]
  },
  {
   "cell_type": "code",
   "execution_count": 10,
   "metadata": {},
   "outputs": [
    {
     "data": {
      "text/plain": [
       "['measurement', 'station']"
      ]
     },
     "execution_count": 10,
     "metadata": {},
     "output_type": "execute_result"
    }
   ],
   "source": [
    "# Use inspect to list columns in each table\n",
    "from sqlalchemy import inspect\n",
    "\n",
    "inspector = inspect(engine)\n",
    "inspector.get_table_names()"
   ]
  },
  {
   "cell_type": "code",
   "execution_count": 11,
   "metadata": {},
   "outputs": [
    {
     "name": "stdout",
     "output_type": "stream",
     "text": [
      "id INTEGER\n",
      "station TEXT\n",
      "date TEXT\n",
      "prcp FLOAT\n",
      "tobs FLOAT\n"
     ]
    }
   ],
   "source": [
    "# Get a list of column names and types for the measurement table\n",
    "columns = inspector.get_columns('measurement')\n",
    "for c in columns:\n",
    "    print(c['name'], c[\"type\"])"
   ]
  },
  {
   "cell_type": "code",
   "execution_count": 12,
   "metadata": {},
   "outputs": [
    {
     "name": "stdout",
     "output_type": "stream",
     "text": [
      "id INTEGER\n",
      "station TEXT\n",
      "name TEXT\n",
      "latitude FLOAT\n",
      "longitude FLOAT\n",
      "elevation FLOAT\n"
     ]
    }
   ],
   "source": [
    "# Get a list of column names and types for the station table\n",
    "columns = inspector.get_columns('station')\n",
    "for c in columns:\n",
    "    print(c['name'], c[\"type\"])"
   ]
  },
  {
   "cell_type": "code",
   "execution_count": 13,
   "metadata": {},
   "outputs": [
    {
     "name": "stdout",
     "output_type": "stream",
     "text": [
      "('USC00519397',)\n",
      "('USC00513117',)\n",
      "('USC00514830',)\n",
      "('USC00517948',)\n",
      "('USC00518838',)\n",
      "('USC00519523',)\n",
      "('USC00519281',)\n",
      "('USC00511918',)\n",
      "('USC00516128',)\n"
     ]
    },
    {
     "data": {
      "text/plain": [
       "9"
      ]
     },
     "execution_count": 13,
     "metadata": {},
     "output_type": "execute_result"
    }
   ],
   "source": [
    "from sqlalchemy import distinct\n",
    "\n",
    "# Design a query to show how many stations are available in this dataset?\n",
    "\n",
    "# First list the available stations in the measurement table.\n",
    "query_results = session.query(Measurement.station).distinct().all()\n",
    "\n",
    "for row in query_results:\n",
    "    print(row)\n",
    "\n",
    "# We can also just get the count of unique stations in the measurement table\n",
    "session.query(func.count(distinct(Measurement.station))).scalar()"
   ]
  },
  {
   "cell_type": "code",
   "execution_count": 14,
   "metadata": {},
   "outputs": [
    {
     "data": {
      "text/plain": [
       "[('USC00519281', 2772),\n",
       " ('USC00519397', 2724),\n",
       " ('USC00513117', 2709),\n",
       " ('USC00519523', 2669),\n",
       " ('USC00516128', 2612),\n",
       " ('USC00514830', 2202),\n",
       " ('USC00511918', 1979),\n",
       " ('USC00517948', 1372),\n",
       " ('USC00518838', 511)]"
      ]
     },
     "execution_count": 14,
     "metadata": {},
     "output_type": "execute_result"
    }
   ],
   "source": [
    "# What are the most active stations? (i.e. what stations have the most rows)?\n",
    "# List the stations and the counts in descending order.\n",
    "session.query(Measurement.station, func.count(Measurement.station)).\\\n",
    "    group_by(Measurement.station).\\\n",
    "    order_by(func.count(Measurement.station).desc()).all()"
   ]
  },
  {
   "cell_type": "code",
   "execution_count": 15,
   "metadata": {},
   "outputs": [
    {
     "data": {
      "text/plain": [
       "'USC00519281'"
      ]
     },
     "execution_count": 15,
     "metadata": {},
     "output_type": "execute_result"
    }
   ],
   "source": [
    "# The most active station can be pulled in a query - we assign it the name most_active\n",
    "most_active = session.query(Measurement.station).\\\n",
    "    group_by(Measurement.station).\\\n",
    "    order_by(func.count(Measurement.station).desc()).first()[0]\n",
    "most_active"
   ]
  },
  {
   "cell_type": "code",
   "execution_count": 16,
   "metadata": {},
   "outputs": [
    {
     "data": {
      "text/plain": [
       "[(54.0, 85.0, 71.66378066378067)]"
      ]
     },
     "execution_count": 16,
     "metadata": {},
     "output_type": "execute_result"
    }
   ],
   "source": [
    "# Using the station id from the previous query, calculate the lowest temperature recorded, \n",
    "# highest temperature recorded, and average temperature most active station?\n",
    "session.query(func.min(Measurement.tobs),\n",
    "              func.max(Measurement.tobs),\n",
    "              func.avg(Measurement.tobs)).filter(Measurement.station == most_active).all()"
   ]
  },
  {
   "cell_type": "code",
   "execution_count": 23,
   "metadata": {},
   "outputs": [
    {
     "name": "stdout",
     "output_type": "stream",
     "text": [
      "('2010-01-01', '2017-08-18')\n",
      "2017-08-18 2016-08-18\n"
     ]
    }
   ],
   "source": [
    "# What is the range of available dates for the most active station?\n",
    "query_results = session.query(func.min(Measurement.date), func.max(Measurement.date)).\\\n",
    "    filter(Measurement.station == most_active).all()\n",
    "\n",
    "for row in query_results:\n",
    "    print(row)\n",
    "    \n",
    "# We can directly query for the last available date for the most active station \n",
    "# Or - we could pull it out of the query_results above: query_results[0][1]\n",
    "last_active_date = session.query(func.max(Measurement.date)).\\\n",
    "    filter(Measurement.station == most_active).scalar()\n",
    "\n",
    "# Now get one year back from the last_active_date -\n",
    "last_active_date_dt = dt.datetime.strptime(last_active_date, '%Y-%m-%d')  # a datetime object\n",
    "one_year_ago = last_active_date_dt - dt.timedelta(days=365)\n",
    "one_year_ago = one_year_ago.strftime(\"%Y-%m-%d\") # convert the datetime object back to a string\n",
    "\n",
    "print(last_active_date, one_year_ago)"
   ]
  },
  {
   "cell_type": "code",
   "execution_count": 26,
   "metadata": {},
   "outputs": [
    {
     "data": {
      "text/plain": [
       "<matplotlib.axes._subplots.AxesSubplot at 0x2ea6b0a5438>"
      ]
     },
     "execution_count": 26,
     "metadata": {},
     "output_type": "execute_result"
    },
    {
     "data": {
      "image/png": "[encoded data removed]",
      "text/plain": [
       "<Figure size 432x288 with 1 Axes>"
      ]
     },
     "metadata": {
      "needs_background": "light"
     },
     "output_type": "display_data"
    }
   ],
   "source": [
    "# Choose the station with the highest number of temperature observations.\n",
    "# Query the last 12 months of temperature observation data for this station and plot the results as a histogram\n",
    "\n",
    "query_results = session.query(Measurement.tobs).\\\n",
    "    filter(Measurement.date >= one_year_ago).\\\n",
    "    filter(Measurement.station == most_active).all()\n",
    "\n",
    "#query_results[:10]\n",
    "df_temp = pd.DataFrame(query_results, columns=['Temperature'])\n",
    "df_temp.plot.hist(bins=12) # default is bins=10, bins=12 matches the sample graph"
   ]
  },
  {
   "cell_type": "markdown",
   "metadata": {},
   "source": [
    "# What dates are available for the stations reporting?\n",
    "\n",
    "We get differing numbers of stations in our queries, depending on the range of dates we filter on.  We also get different results depending on whether we pass in a datetime object for comparisons or a string date."
   ]
  },
  {
   "cell_type": "code",
   "execution_count": 49,
   "metadata": {},
   "outputs": [
    {
     "name": "stdout",
     "output_type": "stream",
     "text": [
      "Date: 2018-01-01\n",
      "Date one-year-prior (as a datetime object): 2017-01-01 00:00:00\n",
      "Date one-year-prior (as string): 2017-01-01\n"
     ]
    }
   ],
   "source": [
    "# A helper function\n",
    "def one_year_ago(a_date, date_format=\"%Y-%m-%d\", return_datetime=False):\n",
    "    \"\"\"\n",
    "    Args: \n",
    "        a_date:  \n",
    "            is a string representation of a date with the time-format specified in date_format \n",
    "            (default is %Y-%m-%d)\n",
    "        date_format: \n",
    "            the format of a_date\n",
    "        return_datetime:\n",
    "            specifies whether the result should be returned as a string (the default) or a \n",
    "            datetime object.\n",
    "            \n",
    "    Returns: (Default) a string object that is the date one-year prior to a_date in the same format as\n",
    "        a_date or a datetime object if return_datetime is True \n",
    "    \"\"\"\n",
    "    a_date = dt.datetime.strptime(a_date, date_format)\n",
    "    one_year_prior = a_date - dt.timedelta(days=365)\n",
    "    if return_datetime:\n",
    "        return one_year_prior\n",
    "    else:\n",
    "        return one_year_prior.strftime(date_format)\n",
    "\n",
    "# An example of the above function: \n",
    "start_date = \"2018-01-01\"\n",
    "start_delta_dt = one_year_ago(start_date, return_datetime=True)\n",
    "start_delta_str = one_year_ago(start_date)\n",
    "\n",
    "print(f\"Date: {start_date}\")\n",
    "print(f\"Date one-year-prior (as a datetime object): {start_delta_dt}\")\n",
    "print(f\"Date one-year-prior (as string): {start_delta_str}\")\n"
   ]
  },
  {
   "cell_type": "code",
   "execution_count": 31,
   "metadata": {},
   "outputs": [
    {
     "name": "stdout",
     "output_type": "stream",
     "text": [
      "('USC00519397',)\n",
      "('USC00513117',)\n",
      "('USC00514830',)\n",
      "('USC00517948',)\n",
      "('USC00518838',)\n",
      "('USC00519523',)\n",
      "('USC00519281',)\n",
      "('USC00511918',)\n",
      "('USC00516128',)\n"
     ]
    }
   ],
   "source": [
    "# List all of the available stations in the station table\n",
    "query_results = session.query(Station.station).all()\n",
    "for row in query_results:\n",
    "    print(row)"
   ]
  },
  {
   "cell_type": "code",
   "execution_count": 32,
   "metadata": {},
   "outputs": [
    {
     "name": "stdout",
     "output_type": "stream",
     "text": [
      "('USC00519523', 'WAIMANALO EXPERIMENTAL FARM, HI US', 21.33556, -157.71139, 19.5, 0.61)\n",
      "('USC00514830', 'KUALOA RANCH HEADQUARTERS 886.9, HI US', 21.5213, -157.8374, 7.0, 0.6)\n",
      "('USC00516128', 'MANOA LYON ARBO 785.2, HI US', 21.3331, -157.8025, 152.4, 0.57)\n",
      "('USC00519281', 'WAIHEE 837.5, HI US', 21.45167, -157.84888999999998, 32.9, 0.16999999999999998)\n",
      "('USC00513117', 'KANEOHE 838.1, HI US', 21.4234, -157.8015, 14.6, 0.06)\n",
      "('USC00519397', 'WAIKIKI 717.2, HI US', 21.2716, -157.8168, 3.0, 0.0)\n"
     ]
    }
   ],
   "source": [
    "# What are the results when we use a datetime object?\n",
    "end_date = \"2018-01-07\"\n",
    "end_delta_dt = one_year_ago(end_date, return_datetime=True)\n",
    "\n",
    "sel = [Measurement.station,\n",
    "       Station.name,\n",
    "       Station.latitude,\n",
    "       Station.longitude,\n",
    "       Station.elevation,\n",
    "       func.sum(Measurement.prcp)]\n",
    "\n",
    "query_results = session.query(*sel).\\\n",
    "    filter(Measurement.station == Station.station).\\\n",
    "    filter(Measurement.date >= start_delta_dt).\\\n",
    "    filter(Measurement.date <= end_delta_dt).\\\n",
    "    group_by(Measurement.station).\\\n",
    "    order_by(func.sum(Measurement.prcp).desc()).all()\n",
    "\n",
    "for row in query_results:\n",
    "    print(row)"
   ]
  },
  {
   "cell_type": "code",
   "execution_count": 34,
   "metadata": {},
   "outputs": [
    {
     "name": "stdout",
     "output_type": "stream",
     "text": [
      "('USC00519523', 'WAIMANALO EXPERIMENTAL FARM, HI US', 21.33556, -157.71139, 19.5, 0.61)\n",
      "('USC00514830', 'KUALOA RANCH HEADQUARTERS 886.9, HI US', 21.5213, -157.8374, 7.0, 0.6)\n",
      "('USC00516128', 'MANOA LYON ARBO 785.2, HI US', 21.3331, -157.8025, 152.4, 0.6)\n",
      "('USC00513117', 'KANEOHE 838.1, HI US', 21.4234, -157.8015, 14.6, 0.35)\n",
      "('USC00519281', 'WAIHEE 837.5, HI US', 21.45167, -157.84888999999998, 32.9, 0.2)\n",
      "('USC00519397', 'WAIKIKI 717.2, HI US', 21.2716, -157.8168, 3.0, 0.0)\n"
     ]
    }
   ],
   "source": [
    "# What are the results when we use a string representation of the date?\n",
    "end_delta_str = one_year_ago(end_date)\n",
    "\n",
    "query_results = session.query(*sel).\\\n",
    "    filter(Measurement.station == Station.station).\\\n",
    "    filter(Measurement.date >= start_delta_str).\\\n",
    "    filter(Measurement.date <= end_delta_str).\\\n",
    "    group_by(Measurement.station).\\\n",
    "    order_by(func.sum(Measurement.prcp).desc()).all()\n",
    "\n",
    "for row in query_results:\n",
    "    print(row)"
   ]
  },
  {
   "cell_type": "markdown",
   "metadata": {},
   "source": [
    "## Consider the difference between the datetime and string date objects.\n",
    "From the above, we see that using a datetime object or a string date will give different results.  We can see why by looking at what rows are pulled from the tables based on using the different representations of the dates."
   ]
  },
  {
   "cell_type": "code",
   "execution_count": 41,
   "metadata": {},
   "outputs": [
    {
     "name": "stdout",
     "output_type": "stream",
     "text": [
      "('2017-01-02', 'USC00519397', 'WAIKIKI 717.2, HI US', 21.2716, -157.8168, 3.0, 0.0)\n",
      "('2017-01-03', 'USC00519397', 'WAIKIKI 717.2, HI US', 21.2716, -157.8168, 3.0, 0.0)\n",
      "('2017-01-04', 'USC00519397', 'WAIKIKI 717.2, HI US', 21.2716, -157.8168, 3.0, 0.0)\n",
      "('2017-01-05', 'USC00519397', 'WAIKIKI 717.2, HI US', 21.2716, -157.8168, 3.0, 0.0)\n",
      "('2017-01-06', 'USC00519397', 'WAIKIKI 717.2, HI US', 21.2716, -157.8168, 3.0, 0.0)\n",
      "('2017-01-07', 'USC00519397', 'WAIKIKI 717.2, HI US', 21.2716, -157.8168, 3.0, 0.0)\n",
      "('2017-01-02', 'USC00513117', 'KANEOHE 838.1, HI US', 21.4234, -157.8015, 14.6, 0.0)\n",
      "('2017-01-03', 'USC00513117', 'KANEOHE 838.1, HI US', 21.4234, -157.8015, 14.6, 0.0)\n",
      "('2017-01-04', 'USC00513117', 'KANEOHE 838.1, HI US', 21.4234, -157.8015, 14.6, 0.0)\n",
      "('2017-01-05', 'USC00513117', 'KANEOHE 838.1, HI US', 21.4234, -157.8015, 14.6, 0.0)\n",
      "('2017-01-06', 'USC00513117', 'KANEOHE 838.1, HI US', 21.4234, -157.8015, 14.6, 0.0)\n",
      "('2017-01-07', 'USC00513117', 'KANEOHE 838.1, HI US', 21.4234, -157.8015, 14.6, 0.06)\n",
      "('2017-01-02', 'USC00514830', 'KUALOA RANCH HEADQUARTERS 886.9, HI US', 21.5213, -157.8374, 7.0, 0.01)\n",
      "('2017-01-03', 'USC00514830', 'KUALOA RANCH HEADQUARTERS 886.9, HI US', 21.5213, -157.8374, 7.0, 0.0)\n",
      "('2017-01-04', 'USC00514830', 'KUALOA RANCH HEADQUARTERS 886.9, HI US', 21.5213, -157.8374, 7.0, 0.0)\n",
      "('2017-01-05', 'USC00514830', 'KUALOA RANCH HEADQUARTERS 886.9, HI US', 21.5213, -157.8374, 7.0, 0.0)\n",
      "('2017-01-06', 'USC00514830', 'KUALOA RANCH HEADQUARTERS 886.9, HI US', 21.5213, -157.8374, 7.0, 0.59)\n",
      "('2017-01-07', 'USC00514830', 'KUALOA RANCH HEADQUARTERS 886.9, HI US', 21.5213, -157.8374, 7.0, 0.0)\n",
      "('2017-01-03', 'USC00519523', 'WAIMANALO EXPERIMENTAL FARM, HI US', 21.33556, -157.71139, 19.5, None)\n",
      "('2017-01-04', 'USC00519523', 'WAIMANALO EXPERIMENTAL FARM, HI US', 21.33556, -157.71139, 19.5, 0.18)\n",
      "('2017-01-05', 'USC00519523', 'WAIMANALO EXPERIMENTAL FARM, HI US', 21.33556, -157.71139, 19.5, 0.42)\n",
      "('2017-01-06', 'USC00519523', 'WAIMANALO EXPERIMENTAL FARM, HI US', 21.33556, -157.71139, 19.5, 0.01)\n",
      "('2017-01-07', 'USC00519523', 'WAIMANALO EXPERIMENTAL FARM, HI US', 21.33556, -157.71139, 19.5, 0.0)\n",
      "('2017-01-02', 'USC00519281', 'WAIHEE 837.5, HI US', 21.45167, -157.84888999999998, 32.9, 0.01)\n",
      "('2017-01-03', 'USC00519281', 'WAIHEE 837.5, HI US', 21.45167, -157.84888999999998, 32.9, 0.0)\n",
      "('2017-01-04', 'USC00519281', 'WAIHEE 837.5, HI US', 21.45167, -157.84888999999998, 32.9, 0.0)\n",
      "('2017-01-05', 'USC00519281', 'WAIHEE 837.5, HI US', 21.45167, -157.84888999999998, 32.9, 0.06)\n",
      "('2017-01-06', 'USC00519281', 'WAIHEE 837.5, HI US', 21.45167, -157.84888999999998, 32.9, 0.1)\n",
      "('2017-01-07', 'USC00519281', 'WAIHEE 837.5, HI US', 21.45167, -157.84888999999998, 32.9, 0.0)\n",
      "('2017-01-02', 'USC00516128', 'MANOA LYON ARBO 785.2, HI US', 21.3331, -157.8025, 152.4, 0.0)\n",
      "('2017-01-03', 'USC00516128', 'MANOA LYON ARBO 785.2, HI US', 21.3331, -157.8025, 152.4, 0.0)\n",
      "('2017-01-04', 'USC00516128', 'MANOA LYON ARBO 785.2, HI US', 21.3331, -157.8025, 152.4, 0.0)\n",
      "('2017-01-05', 'USC00516128', 'MANOA LYON ARBO 785.2, HI US', 21.3331, -157.8025, 152.4, 0.47)\n",
      "('2017-01-06', 'USC00516128', 'MANOA LYON ARBO 785.2, HI US', 21.3331, -157.8025, 152.4, 0.1)\n",
      "('2017-01-07', 'USC00516128', 'MANOA LYON ARBO 785.2, HI US', 21.3331, -157.8025, 152.4, 0.0)\n"
     ]
    }
   ],
   "source": [
    "# This only gives 6 stations and it depends on whether I pass in a datetime object or a string date.\n",
    "# Using a datetime object excluded the start date.\n",
    "sel = [Measurement.date,\n",
    "       Measurement.station,\n",
    "       Station.name,\n",
    "       Station.latitude,\n",
    "       Station.longitude,\n",
    "       Station.elevation,\n",
    "       Measurement.prcp]\n",
    "\n",
    "query_results = session.query(*sel).\\\n",
    "    filter(Measurement.station == Station.station).\\\n",
    "    filter(Measurement.date >= start_delta_dt).\\\n",
    "    filter(Measurement.date <= end_delta_dt).all()\n",
    "\n",
    "for row in query_results:\n",
    "    print(row)"
   ]
  },
  {
   "cell_type": "code",
   "execution_count": 42,
   "metadata": {},
   "outputs": [
    {
     "name": "stdout",
     "output_type": "stream",
     "text": [
      "('2017-01-01', 'USC00519397', 'WAIKIKI 717.2, HI US', 21.2716, -157.8168, 3.0, 0.0)\n",
      "('2017-01-02', 'USC00519397', 'WAIKIKI 717.2, HI US', 21.2716, -157.8168, 3.0, 0.0)\n",
      "('2017-01-03', 'USC00519397', 'WAIKIKI 717.2, HI US', 21.2716, -157.8168, 3.0, 0.0)\n",
      "('2017-01-04', 'USC00519397', 'WAIKIKI 717.2, HI US', 21.2716, -157.8168, 3.0, 0.0)\n",
      "('2017-01-05', 'USC00519397', 'WAIKIKI 717.2, HI US', 21.2716, -157.8168, 3.0, 0.0)\n",
      "('2017-01-06', 'USC00519397', 'WAIKIKI 717.2, HI US', 21.2716, -157.8168, 3.0, 0.0)\n",
      "('2017-01-07', 'USC00519397', 'WAIKIKI 717.2, HI US', 21.2716, -157.8168, 3.0, 0.0)\n",
      "('2017-01-01', 'USC00513117', 'KANEOHE 838.1, HI US', 21.4234, -157.8015, 14.6, 0.29)\n",
      "('2017-01-02', 'USC00513117', 'KANEOHE 838.1, HI US', 21.4234, -157.8015, 14.6, 0.0)\n",
      "('2017-01-03', 'USC00513117', 'KANEOHE 838.1, HI US', 21.4234, -157.8015, 14.6, 0.0)\n",
      "('2017-01-04', 'USC00513117', 'KANEOHE 838.1, HI US', 21.4234, -157.8015, 14.6, 0.0)\n",
      "('2017-01-05', 'USC00513117', 'KANEOHE 838.1, HI US', 21.4234, -157.8015, 14.6, 0.0)\n",
      "('2017-01-06', 'USC00513117', 'KANEOHE 838.1, HI US', 21.4234, -157.8015, 14.6, 0.0)\n",
      "('2017-01-07', 'USC00513117', 'KANEOHE 838.1, HI US', 21.4234, -157.8015, 14.6, 0.06)\n",
      "('2017-01-01', 'USC00514830', 'KUALOA RANCH HEADQUARTERS 886.9, HI US', 21.5213, -157.8374, 7.0, 0.0)\n",
      "('2017-01-02', 'USC00514830', 'KUALOA RANCH HEADQUARTERS 886.9, HI US', 21.5213, -157.8374, 7.0, 0.01)\n",
      "('2017-01-03', 'USC00514830', 'KUALOA RANCH HEADQUARTERS 886.9, HI US', 21.5213, -157.8374, 7.0, 0.0)\n",
      "('2017-01-04', 'USC00514830', 'KUALOA RANCH HEADQUARTERS 886.9, HI US', 21.5213, -157.8374, 7.0, 0.0)\n",
      "('2017-01-05', 'USC00514830', 'KUALOA RANCH HEADQUARTERS 886.9, HI US', 21.5213, -157.8374, 7.0, 0.0)\n",
      "('2017-01-06', 'USC00514830', 'KUALOA RANCH HEADQUARTERS 886.9, HI US', 21.5213, -157.8374, 7.0, 0.59)\n",
      "('2017-01-07', 'USC00514830', 'KUALOA RANCH HEADQUARTERS 886.9, HI US', 21.5213, -157.8374, 7.0, 0.0)\n",
      "('2017-01-01', 'USC00519523', 'WAIMANALO EXPERIMENTAL FARM, HI US', 21.33556, -157.71139, 19.5, None)\n",
      "('2017-01-03', 'USC00519523', 'WAIMANALO EXPERIMENTAL FARM, HI US', 21.33556, -157.71139, 19.5, None)\n",
      "('2017-01-04', 'USC00519523', 'WAIMANALO EXPERIMENTAL FARM, HI US', 21.33556, -157.71139, 19.5, 0.18)\n",
      "('2017-01-05', 'USC00519523', 'WAIMANALO EXPERIMENTAL FARM, HI US', 21.33556, -157.71139, 19.5, 0.42)\n",
      "('2017-01-06', 'USC00519523', 'WAIMANALO EXPERIMENTAL FARM, HI US', 21.33556, -157.71139, 19.5, 0.01)\n",
      "('2017-01-07', 'USC00519523', 'WAIMANALO EXPERIMENTAL FARM, HI US', 21.33556, -157.71139, 19.5, 0.0)\n",
      "('2017-01-01', 'USC00519281', 'WAIHEE 837.5, HI US', 21.45167, -157.84888999999998, 32.9, 0.03)\n",
      "('2017-01-02', 'USC00519281', 'WAIHEE 837.5, HI US', 21.45167, -157.84888999999998, 32.9, 0.01)\n",
      "('2017-01-03', 'USC00519281', 'WAIHEE 837.5, HI US', 21.45167, -157.84888999999998, 32.9, 0.0)\n",
      "('2017-01-04', 'USC00519281', 'WAIHEE 837.5, HI US', 21.45167, -157.84888999999998, 32.9, 0.0)\n",
      "('2017-01-05', 'USC00519281', 'WAIHEE 837.5, HI US', 21.45167, -157.84888999999998, 32.9, 0.06)\n",
      "('2017-01-06', 'USC00519281', 'WAIHEE 837.5, HI US', 21.45167, -157.84888999999998, 32.9, 0.1)\n",
      "('2017-01-07', 'USC00519281', 'WAIHEE 837.5, HI US', 21.45167, -157.84888999999998, 32.9, 0.0)\n",
      "('2017-01-01', 'USC00516128', 'MANOA LYON ARBO 785.2, HI US', 21.3331, -157.8025, 152.4, 0.03)\n",
      "('2017-01-02', 'USC00516128', 'MANOA LYON ARBO 785.2, HI US', 21.3331, -157.8025, 152.4, 0.0)\n",
      "('2017-01-03', 'USC00516128', 'MANOA LYON ARBO 785.2, HI US', 21.3331, -157.8025, 152.4, 0.0)\n",
      "('2017-01-04', 'USC00516128', 'MANOA LYON ARBO 785.2, HI US', 21.3331, -157.8025, 152.4, 0.0)\n",
      "('2017-01-05', 'USC00516128', 'MANOA LYON ARBO 785.2, HI US', 21.3331, -157.8025, 152.4, 0.47)\n",
      "('2017-01-06', 'USC00516128', 'MANOA LYON ARBO 785.2, HI US', 21.3331, -157.8025, 152.4, 0.1)\n",
      "('2017-01-07', 'USC00516128', 'MANOA LYON ARBO 785.2, HI US', 21.3331, -157.8025, 152.4, 0.0)\n"
     ]
    }
   ],
   "source": [
    "# Using a string representation of the date:\n",
    "# This also only gives 6 stations but it includes the start_date \n",
    "\n",
    "sel = [Measurement.date,\n",
    "       Measurement.station,\n",
    "       Station.name,\n",
    "       Station.latitude,\n",
    "       Station.longitude,\n",
    "       Station.elevation,\n",
    "       Measurement.prcp]\n",
    "\n",
    "query_results = session.query(*sel).\\\n",
    "    filter(Measurement.station == Station.station).\\\n",
    "    filter(Measurement.date >= '2017-01-01').\\\n",
    "    filter(Measurement.date <= '2017-01-07').all()\n",
    "\n",
    "for row in query_results:\n",
    "    print(row)"
   ]
  },
  {
   "cell_type": "code",
   "execution_count": 43,
   "metadata": {},
   "outputs": [
    {
     "name": "stdout",
     "output_type": "stream",
     "text": [
      "('USC00516128', 'MANOA LYON ARBO 785.2, HI US', 21.3331, -157.8025, 152.4, 1068.0899999999956)\n",
      "('USC00519281', 'WAIHEE 837.5, HI US', 21.45167, -157.84888999999998, 32.9, 588.6399999999976)\n",
      "('USC00513117', 'KANEOHE 838.1, HI US', 21.4234, -157.8015, 14.6, 382.61999999999847)\n",
      "('USC00519523', 'WAIMANALO EXPERIMENTAL FARM, HI US', 21.33556, -157.71139, 19.5, 295.67999999999944)\n",
      "('USC00514830', 'KUALOA RANCH HEADQUARTERS 886.9, HI US', 21.5213, -157.8374, 7.0, 234.49000000000026)\n",
      "('USC00519397', 'WAIKIKI 717.2, HI US', 21.2716, -157.8168, 3.0, 131.62000000000063)\n",
      "('USC00511918', 'HONOLULU OBSERVATORY 702.2, HI US', 21.3152, -157.9992, 0.9, 92.68000000000006)\n",
      "('USC00518838', 'UPPER WAHIAWA 874.3, HI US', 21.4992, -158.0111, 306.6, 70.87000000000005)\n",
      "('USC00517948', 'PEARL CITY, HI US', 21.3934, -157.9751, 11.9, 43.44000000000002)\n"
     ]
    }
   ],
   "source": [
    "# You can get data on all 9 stations by not filtering on time.\n",
    "sel = [Measurement.station,\n",
    "       Station.name,\n",
    "       Station.latitude,\n",
    "       Station.longitude,\n",
    "       Station.elevation,\n",
    "       func.sum(Measurement.prcp)]\n",
    "\n",
    "query_results = session.query(*sel).\\\n",
    "    filter(Measurement.station == Station.station).\\\n",
    "    group_by(Measurement.station).\\\n",
    "    order_by(func.sum(Measurement.prcp).desc()).all()\n",
    "\n",
    "for row in query_results:\n",
    "    print(row)"
   ]
  },
  {
   "cell_type": "code",
   "execution_count": 45,
   "metadata": {},
   "outputs": [
    {
     "name": "stdout",
     "output_type": "stream",
     "text": [
      "0\n"
     ]
    }
   ],
   "source": [
    "# We can see that in 2017, two of the stations do not have any recordings\n",
    "# and another station does not have any observations in the range 2017-01-01 to 2017-01-08\n",
    "# hence we are only pulling date from six stations above.\n",
    "\n",
    "dropped_obs = ['USC00517948', 'USC00518838', 'USC00511918']\n",
    "\n",
    "sel = [Station.station,\n",
    "       Station.name,\n",
    "       Station.latitude,\n",
    "       Station.longitude,\n",
    "       Station.elevation,\n",
    "       Measurement.prcp,\n",
    "      Measurement.date]\n",
    "\n",
    "query_results = session.query(*sel).\\\n",
    "    join(Measurement, Measurement.station == Station.station, isouter=True).\\\n",
    "    filter(Measurement.date >= '2017-01-01').\\\n",
    "    filter(Measurement.date <= '2017-01-07').\\\n",
    "    filter(Station.station.in_(dropped_obs)).all()\n",
    "\n",
    "print(len(query_results)) # is 0 since no rows are available\n",
    "for row in query_results: # prints nothing - no rows are in the query\n",
    "    print(row)"
   ]
  },
  {
   "cell_type": "code",
   "execution_count": 46,
   "metadata": {},
   "outputs": [
    {
     "name": "stdout",
     "output_type": "stream",
     "text": [
      "('USC00511918', 'HONOLULU OBSERVATORY 702.2, HI US', '2010-01-01', '2015-10-30')\n",
      "('USC00513117', 'KANEOHE 838.1, HI US', '2010-01-01', '2017-07-31')\n",
      "('USC00514830', 'KUALOA RANCH HEADQUARTERS 886.9, HI US', '2010-03-01', '2017-08-23')\n",
      "('USC00516128', 'MANOA LYON ARBO 785.2, HI US', '2010-01-01', '2017-08-23')\n",
      "('USC00517948', 'PEARL CITY, HI US', '2010-05-03', '2017-07-31')\n",
      "('USC00518838', 'UPPER WAHIAWA 874.3, HI US', '2010-01-01', '2015-11-20')\n",
      "('USC00519281', 'WAIHEE 837.5, HI US', '2010-01-01', '2017-08-18')\n",
      "('USC00519397', 'WAIKIKI 717.2, HI US', '2010-01-01', '2017-08-23')\n",
      "('USC00519523', 'WAIMANALO EXPERIMENTAL FARM, HI US', '2010-01-01', '2017-08-23')\n"
     ]
    }
   ],
   "source": [
    "# The following query gets at the heart of the problem.  We do not have observations after 2016 for two of the stations.\n",
    "# query gives the earliest and lastest observation dates available for each of the stations.\n",
    "\n",
    "sel = [Station.station,\n",
    "       Station.name,\n",
    "       func.min(Measurement.date),\n",
    "       func.max(Measurement.date)]\n",
    "\n",
    "query_results = session.query(*sel).\\\n",
    "    join(Measurement, Measurement.station == Station.station, isouter=True).\\\n",
    "    group_by(Station.station).all()\n",
    "\n",
    "for row in query_results:\n",
    "    print(row)"
   ]
  },
  {
   "cell_type": "code",
   "execution_count": 48,
   "metadata": {},
   "outputs": [
    {
     "name": "stdout",
     "output_type": "stream",
     "text": [
      "('USC00519523', 'WAIMANALO EXPERIMENTAL FARM, HI US', 21.33556, -157.71139, 19.5, 0.61)\n",
      "('USC00514830', 'KUALOA RANCH HEADQUARTERS 886.9, HI US', 21.5213, -157.8374, 7.0, 0.6)\n",
      "('USC00516128', 'MANOA LYON ARBO 785.2, HI US', 21.3331, -157.8025, 152.4, 0.6)\n",
      "('USC00513117', 'KANEOHE 838.1, HI US', 21.4234, -157.8015, 14.6, 0.35)\n",
      "('USC00519281', 'WAIHEE 837.5, HI US', 21.45167, -157.84888999999998, 32.9, 0.2)\n",
      "('USC00519397', 'WAIKIKI 717.2, HI US', 21.2716, -157.8168, 3.0, 0.0)\n"
     ]
    }
   ],
   "source": [
    "# A left outer join of station and measurement still can't get results for the missing date ranges:\n",
    "# Using the ifnull function doesn't help since no rows are pulled for these stations after filtering.\n",
    "\n",
    "sel = [Station.station,\n",
    "       Station.name,\n",
    "       Station.latitude,\n",
    "       Station.longitude,\n",
    "       Station.elevation,\n",
    "       func.ifnull(func.sum(Measurement.prcp), 0)]\n",
    "\n",
    "query_results = session.query(*sel).\\\n",
    "    join(Measurement, Station.station == Measurement.station, isouter=True).\\\n",
    "    filter(Measurement.station == Station.station).\\\n",
    "    filter(Measurement.date >= '2017-01-01').\\\n",
    "    filter(Measurement.date <= '2017-01-07').\\\n",
    "    group_by(Measurement.station).\\\n",
    "    order_by(func.ifnull(func.sum(Measurement.prcp), 0).desc()).all()\n",
    "\n",
    "for row in query_results:\n",
    "    print(row)"
   ]
  },
  {
   "cell_type": "markdown",
   "metadata": {},
   "source": [
    "## Lessons:\n",
    "* Using string representations for the dates in the queries gives the desired results.  SQLAlchemy can use both datetime and string dates but the string dates give the expected behavior when comparing dates.\n",
    "* The output we receive depends on the range of dates given since not all stations are active on all dates."
   ]
  },
  {
   "cell_type": "code",
   "execution_count": 19,
   "metadata": {},
   "outputs": [
    {
     "name": "stdout",
     "output_type": "stream",
     "text": [
      "[('USC00516128', 'MANOA LYON ARBO 785.2, HI US', 21.3331, -157.8025, 152.4, 0.31), ('USC00519281', 'WAIHEE 837.5, HI US', 21.45167, -157.84888999999998, 32.9, 0.25), ('USC00518838', 'UPPER WAHIAWA 874.3, HI US', 21.4992, -158.0111, 306.6, 0.1), ('USC00513117', 'KANEOHE 838.1, HI US', 21.4234, -157.8015, 14.6, 0.060000000000000005), ('USC00511918', 'HONOLULU OBSERVATORY 702.2, HI US', 21.3152, -157.9992, 0.9, 0.0), ('USC00514830', 'KUALOA RANCH HEADQUARTERS 886.9, HI US', 21.5213, -157.8374, 7.0, 0.0), ('USC00517948', 'PEARL CITY, HI US', 21.3934, -157.9751, 11.9, 0.0), ('USC00519397', 'WAIKIKI 717.2, HI US', 21.2716, -157.8168, 3.0, 0.0), ('USC00519523', 'WAIMANALO EXPERIMENTAL FARM, HI US', 21.33556, -157.71139, 19.5, 0.0)]\n"
     ]
    }
   ],
   "source": [
    "# Calculate the total amount of rainfall per weather station for your trip dates using the previous year's matching dates.\n",
    "# Sort this in descending order by precipitation amount and list the station, name, latitude, longitude, and elevation\n",
    "\n"
   ]
  }
 ],
 "metadata": {
  "kernel_info": {
   "name": "python3"
  },
  "kernelspec": {
   "display_name": "Python 3",
   "language": "python",
   "name": "python3"
  },
  "language_info": {
   "codemirror_mode": {
    "name": "ipython",
    "version": 3
   },
   "file_extension": ".py",
   "mimetype": "text/x-python",
   "name": "python",
   "nbconvert_exporter": "python",
   "pygments_lexer": "ipython3",
   "version": "3.6.7"
  },
  "nteract": {
   "version": "0.12.3"
  },
  "varInspector": {
   "cols": {
    "lenName": 16,
    "lenType": 16,
    "lenVar": 40
   },
   "kernels_config": {
    "python": {
     "delete_cmd_postfix": "",
     "delete_cmd_prefix": "del ",
     "library": "var_list.py",
     "varRefreshCmd": "print(var_dic_list())"
    },
    "r": {
     "delete_cmd_postfix": ") ",
     "delete_cmd_prefix": "rm(",
     "library": "var_list.r",
     "varRefreshCmd": "cat(var_dic_list()) "
    }
   },
   "types_to_exclude": [
    "module",
    "function",
    "builtin_function_or_method",
    "instance",
    "_Feature"
   ],
   "window_display": false
  }
 },
 "nbformat": 4,
 "nbformat_minor": 2
}
